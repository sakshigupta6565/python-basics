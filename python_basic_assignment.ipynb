{
  "nbformat": 4,
  "nbformat_minor": 0,
  "metadata": {
    "colab": {
      "provenance": []
    },
    "kernelspec": {
      "name": "python3",
      "display_name": "Python 3"
    },
    "language_info": {
      "name": "python"
    }
  },
  "cells": [
    {
      "cell_type": "markdown",
      "source": [
        "#Python basics\n",
        " 1. What is Python, and why is it popular?\n",
        "\n",
        "Ans- Python is a high level,interpreted programming language\n",
        "often used to build websites,software,automate tasks,data visualisation,analyse data and many more.\n",
        "\n",
        "Python is popular because-\n",
        "> Versatility:Used in diverse fields.example-web development,automation,software development etc.\n",
        "\n",
        "> Beginner-friendly:Python is an easy to learn language which makes it beginner friendly.\n",
        "\n",
        ">Number of library:Python has a huge library,it has vast collection of reusable codes.\n",
        "\n",
        ">Active community:It has a large and supportive community which provides resources,support,solutions.\n",
        "\n",
        ">Open source:It is free to access,one can download and use it directly without paying.\n",
        "\n",
        "\n",
        " 2. What is an interpreter in Python?\n",
        "\n",
        "Ans-An interpreter in python is a program that executes python code directly line by line.This results in immediate execution as it doesn't translate the entire code into machine language.\n",
        "\n",
        " 3. What are pre-defined keywords in Python?\n",
        "\n",
        " Ans-Pre-defined keywords in python are those reserved words which have special meaning and functionalities within the language.some of the examples of pre-defined keywords are true,false,none,and,or,if,else,elif,break,continue,for,while,and many more.\n",
        "\n",
        "   4. Can keywords be used as variable names?\n",
        "\n",
        "  Ans-No,keywords can't be used as variable names.using it as variable name will throw an syntax-error as it would not be able to distinguish between the keyword's intended purpose and taking it as a variable name.\n",
        "  \n",
        "   5. What is mutability in Python?\n",
        "   \n",
        "   Ans- Mutablility in python simply means that value/state of an object is changeable or modifiable after it is created without having the need to create a new object.\n",
        "   for example-list\n",
        "\n",
        "   6. Why are lists mutable, but tuples are immutable?\n",
        "  \n",
        "   Ans-Lists are mutable because we can change,remove,replace,add values after they are once created.On the other hand,values of tuples can't be changed or modified after it is created once therefore tuples are immutable.\n",
        "\n",
        "  7. What is the difference between “==” and “is” operators in Python?\n",
        "\n",
        "  Ans-\"==\" operator is called equality operator which is used to compare the values of two objects,as it determines that the data stored within the two objects is the same.\n",
        "\n",
        "  \"is\" operator is called identity operator which checks for identity,as it determines if two variable refer to the exact same object in memory.\n",
        "  \n",
        "  8. What are logical operators in Python?\n",
        "  \n",
        "  Ans-Logical operators are those operators that performs logical calculations on two or more values and produces a result.There are three logical operators in python: and,or,not.\n",
        "\n",
        "  9. What is type casting in Python?\n",
        "  \n",
        "  Ans-The process of converting a value from one data type to another is called type-casting in python.For example a=\"2\";print(float(a)) it will give result as 2.0 which is a float value.Therfore,string type is converted into a float type.\n",
        "\n",
        "   10. What is the difference between implicit and explicit type casting?\n",
        "      \n",
        "  Ans-Implicit type casting-Implicit type casting happens automatically by the system.we don't need to write any specific code to perform this conversion.\n",
        "\n",
        "  Explicit type casting-Explicit type casting is done by programmer who defines and directly specifies the conversion of one data type to another,which can be done by using keywords.\n",
        "\n",
        "   11. What is the purpose of conditional statements in Python?\n",
        "  \n",
        "  Ans-Conditional statemnets in python are used to execute a block of code based on specific conditions which enables decision-making within a program by creating a responsive environment.\n",
        "\n",
        "   12. How does the elif statement work?\n",
        "  \n",
        "  Ans-The 'elif' stands for 'else if'. It can be used in conditional statements to check for multiple conditions.For example, if the first condition is false, it moves to the next 'elif'statement to check if that condition is true.\n",
        "\n",
        "  13. What is the difference between for and while loops?\n",
        "  \n",
        "  Ans-For loops-For loop has a fixed number of repetition which means it used for iterating a predetermined number of times, often over a sequence like a list or range.\n",
        "\n",
        "   While loops-A while loop is used for executing code repeatedly as long as a specific condition remains true.\n",
        "\n",
        "   14. Describe a scenario where a while loop is more suitable than a for loop?\n",
        "\n",
        "   Ans-A while loop is best used when we don't know the number of iterations in advance.\n",
        "   \n"
      ],
      "metadata": {
        "id": "sDBAcd0dg7sl"
      }
    },
    {
      "cell_type": "markdown",
      "source": [
        "# PRACTICAL QUESTIONS-\n"
      ],
      "metadata": {
        "id": "ZkPS1DOD5XP9"
      }
    },
    {
      "cell_type": "code",
      "source": [
        "#1.Write a Python program to print \"Hello, World!\n",
        "print(\"Hello,World!\")"
      ],
      "metadata": {
        "id": "X0IpixPG4ycz"
      },
      "execution_count": null,
      "outputs": []
    },
    {
      "cell_type": "code",
      "source": [
        "#2.Write a Python program that displays your name and age\n",
        "name=input(\"Enter your name:\")\n",
        "age=int(input(\"Enter your age:\"))\n",
        "print(\"Name:\",name)\n",
        "print(\"Age:\",age)\n"
      ],
      "metadata": {
        "id": "UuvzNCS85I7w"
      },
      "execution_count": null,
      "outputs": []
    },
    {
      "cell_type": "code",
      "source": [
        "#3.Write code to print all the pre-defined keywords in Python using the keyword library8\n",
        "help('keywords')\n"
      ],
      "metadata": {
        "id": "Ywr4iklF5yXG"
      },
      "execution_count": null,
      "outputs": []
    },
    {
      "cell_type": "code",
      "source": [
        "#4.Write a program that checks if a given word is a Python keyword.\n",
        "import keyword\n",
        "word=input(\"Enter a word:\")\n",
        "if keyword.iskeyword(word):\n",
        "  print(word,\"is a keyword\")\n",
        "else:\n",
        "  print(word,\"is not a keyword\")"
      ],
      "metadata": {
        "id": "Zfcw6njj6XEr"
      },
      "execution_count": null,
      "outputs": []
    },
    {
      "cell_type": "code",
      "source": [
        "# 5.  Create a list and tuple in Python, and demonstrate how attempting to change an element works differently for each.\n",
        "\n",
        "# Create a list\n",
        "my_list = [1, 2, 3, 4]\n",
        "print(\"Original List:\", my_list)\n",
        "\n",
        "# Attempt to change an element in the list\n",
        "try:\n",
        "  my_list[2] = 10\n",
        "  print(\"List after attempting to change an element:\", my_list)\n",
        "except TypeError as e:\n",
        "  print(\"Error changing element in list:\", e)\n",
        "\n",
        "print(\"-\" * 20) # Separator\n",
        "\n",
        "# Create a tuple\n",
        "my_tuple = (1, 2, 3, 4)\n",
        "print(\"Original Tuple:\", my_tuple)\n",
        "\n",
        "# Attempt to change an element in the tuple\n",
        "try:\n",
        "  my_tuple[2] = 10\n",
        "  print(\"Tuple after attempting to change an element:\", my_tuple)\n",
        "except TypeError as e:\n",
        "  print(\"Error changing element in tuple:\", e)"
      ],
      "metadata": {
        "id": "20Aydb3p7BSI"
      },
      "execution_count": null,
      "outputs": []
    },
    {
      "cell_type": "code",
      "metadata": {
        "id": "2c460ca7"
      },
      "source": [
        "#6.Write a function to demonstrate the behavior of mutable and immutable arguments\n",
        "# Function to demonstrate mutable argument (list)\n",
        "def modify_list(my_list):\n",
        "  my_list.append(4)\n",
        "  print(\"Inside function (list):\", my_list)\n",
        "\n",
        "# Function to demonstrate immutable argument (integer)\n",
        "def modify_int(my_int):\n",
        "  my_int = my_int + 1\n",
        "  print(\"Inside function (integer):\", my_int)\n",
        "\n",
        "# Demonstrate with a mutable object (list)\n",
        "my_list = [1, 2, 3]\n",
        "print(\"Before function call (list):\", my_list)\n",
        "modify_list(my_list)\n",
        "print(\"After function call (list):\", my_list)\n",
        "\n",
        "print(\"-\" * 20) # Separator\n",
        "\n",
        "# Demonstrate with an immutable object (integer)\n",
        "my_int = 10\n",
        "print(\"Before function call (integer):\", my_int)\n",
        "modify_int(my_int)\n",
        "print(\"After function call (integer):\", my_int)"
      ],
      "execution_count": null,
      "outputs": []
    },
    {
      "cell_type": "code",
      "source": [
        "#7.Write a program that performs basic arithmetic operations on two user-input numbers\n",
        "num1=int(input(\"Enter first number:\"))\n",
        "num2=int(input(\"Enter second number:\"))\n",
        "print(\"Addition:\",num1+num2)\n",
        "print(\"Subtraction:\",num1-num2)\n",
        "print(\"Multiplication:\",num1*num2)"
      ],
      "metadata": {
        "id": "yxoKkA9Q8rAt"
      },
      "execution_count": null,
      "outputs": []
    },
    {
      "cell_type": "code",
      "source": [
        "#8.Write a program to demonstrate the use of logical operators\n",
        "\n",
        "x = True\n",
        "y = False\n",
        "\n",
        "# and operator\n",
        "print(\"x and y is\", x and y)\n",
        "\n",
        "# or operator\n",
        "print(\"x or y is\", x or y)\n",
        "\n",
        "# not operator\n",
        "print(\"not x is\", not x)"
      ],
      "metadata": {
        "id": "SaE-X3Oj9BLO"
      },
      "execution_count": null,
      "outputs": []
    },
    {
      "cell_type": "code",
      "source": [
        "#9. Write a Python program to convert user input from string to integer, float, and boolean types.\n",
        "\n",
        "# Get user input as a string\n",
        "input_string = input(\"Enter a value (string, number, True, or False): \")\n",
        "\n",
        "# Convert to integer (with error handling)\n",
        "try:\n",
        "  int_value = int(input_string)\n",
        "  print(f\"Converted to integer: {int_value} (type: {type(int_value)})\")\n",
        "except ValueError:\n",
        "  print(f\"Could not convert '{input_string}' to integer.\")\n",
        "\n",
        "# Convert to float (with error handling)\n",
        "try:\n",
        "  float_value = float(input_string)\n",
        "  print(f\"Converted to float: {float_value} (type: {type(float_value)})\")\n",
        "except ValueError:\n",
        "  print(f\"Could not convert '{input_string}' to float.\")\n",
        "\n",
        "# Convert to boolean (handling common string representations of boolean)\n",
        "if input_string.lower() == 'true':\n",
        "  boolean_value = True\n",
        "  print(f\"Converted to boolean: {boolean_value} (type: {type(boolean_value)})\")\n",
        "elif input_string.lower() == 'false':\n",
        "  boolean_value = False\n",
        "  print(f\"Converted to boolean: {boolean_value} (type: {type(boolean_value)})\")\n",
        "else:\n",
        "  print(f\"Could not convert '{input_string}' to boolean.\")"
      ],
      "metadata": {
        "id": "ayIpOFEP9TnD"
      },
      "execution_count": null,
      "outputs": []
    },
    {
      "cell_type": "code",
      "source": [
        "#10.Write code to demonstrate type casting with list elements.\n",
        "list=[1,2.0,'pwskkills',0]\n",
        "list[1]=int(list[1])\n",
        "print(list)"
      ],
      "metadata": {
        "colab": {
          "base_uri": "https://localhost:8080/"
        },
        "id": "zlqLtU1p9sJr",
        "outputId": "6d78f0c8-870e-44c5-c4c5-1b3f0ce82b9c"
      },
      "execution_count": 18,
      "outputs": [
        {
          "output_type": "stream",
          "name": "stdout",
          "text": [
            "[1, 2, 'pwskkills', 0]\n"
          ]
        }
      ]
    },
    {
      "cell_type": "code",
      "source": [
        "#11.Write a program that checks if a number is positive, negative, or zero.\n",
        "\n",
        "num = float(input(\"Enter a number: \"))\n",
        "\n",
        "if num > 0:\n",
        "  print(\"The number is positive.\")\n",
        "elif num < 0:\n",
        "  print(\"The number is negative.\")\n",
        "else:\n",
        "  print(\"The number is zero.\")"
      ],
      "metadata": {
        "id": "uNAT7fWN-XhH"
      },
      "execution_count": null,
      "outputs": []
    },
    {
      "cell_type": "code",
      "source": [
        "#12.Write a for loop to print numbers from 1 to 10.\n",
        "\n",
        "for i in range(1, 11):\n",
        "  print(i)"
      ],
      "metadata": {
        "colab": {
          "base_uri": "https://localhost:8080/"
        },
        "id": "wOCIoTTc_J6b",
        "outputId": "54f57f07-5f67-4671-c873-5f5d3983a6bf"
      },
      "execution_count": 24,
      "outputs": [
        {
          "output_type": "stream",
          "name": "stdout",
          "text": [
            "1\n",
            "2\n",
            "3\n",
            "4\n",
            "5\n",
            "6\n",
            "7\n",
            "8\n",
            "9\n",
            "10\n"
          ]
        }
      ]
    },
    {
      "cell_type": "code",
      "source": [
        "#13.Write a Python program to find the sum of all even numbers between 1 and 50.\n",
        "\n",
        "total = 0\n",
        "for number in range(1, 51):\n",
        "  if number % 2 == 0:\n",
        "    total += number\n",
        "print(\"The sum of all even numbers between 1 and 50 is:\", total)"
      ],
      "metadata": {
        "id": "HK-nQnZP_ZWL"
      },
      "execution_count": null,
      "outputs": []
    },
    {
      "cell_type": "code",
      "source": [
        "#14. Write a program to reverse a string using a while loop.\n",
        "\n",
        "input_string = input(\"Enter a string to reverse: \")\n",
        "reversed_string = \"\"\n",
        "index = len(input_string) - 1\n",
        "\n",
        "while index >= 0:\n",
        "  reversed_string += input_string[index]\n",
        "  index -= 1\n",
        "\n",
        "print(\"Reversed string:\", reversed_string)"
      ],
      "metadata": {
        "id": "AV5G9kgS_0de"
      },
      "execution_count": null,
      "outputs": []
    },
    {
      "cell_type": "code",
      "source": [
        "#15. Write a Python program to calculate the factorial of a number provided by the user using a while loop\n",
        "\n",
        "num = int(input(\"Enter a non-negative integer: \"))\n",
        "\n",
        "if num < 0:\n",
        "  print(\"Factorial is not defined for negative numbers\")\n",
        "elif num == 0:\n",
        "  print(\"The factorial of 0 is 1\")\n",
        "else:\n",
        "  factorial = 1\n",
        "  i = 1\n",
        "  while i <= num:\n",
        "    factorial *= i\n",
        "    i += 1\n",
        "  print(f\"The factorial of {num} is {factorial}\")"
      ],
      "metadata": {
        "id": "Lx-NEiQrAAUd"
      },
      "execution_count": null,
      "outputs": []
    }
  ]
}